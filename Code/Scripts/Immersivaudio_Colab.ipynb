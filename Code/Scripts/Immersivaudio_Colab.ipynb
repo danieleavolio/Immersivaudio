{
  "cells": [
    {
      "cell_type": "markdown",
      "metadata": {
        "id": "hDGU1BSwjCAQ"
      },
      "source": [
        "# Immersivaudio Colab\n",
        "\n",
        "Immersivaudio is a Video enhancer made using AudioLDM2 and Gradio to generate music for videos"
      ]
    },
    {
      "cell_type": "markdown",
      "metadata": {
        "id": "jMFf613XU5sJ"
      },
      "source": [
        "## Setup colab\n",
        "\n",
        "Clone the repo and install all the required packages to run Immersivaudio.\n",
        "\n",
        "**Wait** until all the cells are executed!"
      ]
    },
    {
      "cell_type": "code",
      "execution_count": null,
      "metadata": {
        "colab": {
          "base_uri": "https://localhost:8080/"
        },
        "id": "EYwaKigwVJc5",
        "outputId": "4c270904-c0fb-4f73-c89e-5bf9faf6b1ad"
      },
      "outputs": [
        {
          "output_type": "stream",
          "name": "stdout",
          "text": [
            "Cloning into 'Immersivaudio'...\n",
            "remote: Enumerating objects: 719, done.\u001b[K\n",
            "remote: Counting objects: 100% (24/24), done.\u001b[K\n",
            "remote: Compressing objects: 100% (18/18), done.\u001b[K\n",
            "remote: Total 719 (delta 6), reused 16 (delta 6), pack-reused 695\u001b[K\n",
            "Receiving objects: 100% (719/719), 63.41 MiB | 32.02 MiB/s, done.\n",
            "Resolving deltas: 100% (302/302), done.\n"
          ]
        }
      ],
      "source": [
        "# !cp /content/drive/MyDrive/Immersivaudio/Code/Scripts/* /content -r\n",
        "# # This will be changed to github if we make it public\n",
        "\n",
        "!git clone https://github.com/maikuvit/Immersivaudio.git"
      ]
    },
    {
      "cell_type": "code",
      "execution_count": null,
      "metadata": {
        "colab": {
          "base_uri": "https://localhost:8080/"
        },
        "id": "9_IXhL0ytftR",
        "outputId": "0752036a-6a42-4165-8160-21dc2d4a5058"
      },
      "outputs": [
        {
          "output_type": "stream",
          "name": "stdout",
          "text": [
            "cp: -r not specified; omitting directory 'Immersivaudio/Code/Scripts/cat3'\n",
            "cp: -r not specified; omitting directory 'Immersivaudio/Code/Scripts/output'\n",
            "cp: -r not specified; omitting directory 'Immersivaudio/Code/Scripts/room'\n",
            "cp: -r not specified; omitting directory 'Immersivaudio/Code/Scripts/test'\n"
          ]
        }
      ],
      "source": [
        "!cp Immersivaudio/Code/Scripts/* /content\n",
        "!rm Immersivaudio -r"
      ]
    },
    {
      "cell_type": "code",
      "execution_count": null,
      "metadata": {
        "colab": {
          "base_uri": "https://localhost:8080/"
        },
        "id": "rM3zBRwSi_CC",
        "outputId": "044e939c-014b-4187-bcad-a15929e0632c"
      },
      "outputs": [
        {
          "output_type": "stream",
          "name": "stdout",
          "text": [
            "\u001b[2K     \u001b[90m━━━━━━━━━━━━━━━━━━━━━━━━━━━━━━━━━━━━━━━━\u001b[0m \u001b[32m12.3/12.3 MB\u001b[0m \u001b[31m46.6 MB/s\u001b[0m eta \u001b[36m0:00:00\u001b[0m\n",
            "\u001b[2K     \u001b[90m━━━━━━━━━━━━━━━━━━━━━━━━━━━━━━━━━━━━━━━━\u001b[0m \u001b[32m2.0/2.0 MB\u001b[0m \u001b[31m16.1 MB/s\u001b[0m eta \u001b[36m0:00:00\u001b[0m\n",
            "\u001b[2K     \u001b[90m━━━━━━━━━━━━━━━━━━━━━━━━━━━━━━━━━━━━━━━━\u001b[0m \u001b[32m777.9/777.9 kB\u001b[0m \u001b[31m31.0 MB/s\u001b[0m eta \u001b[36m0:00:00\u001b[0m\n",
            "\u001b[2K     \u001b[90m━━━━━━━━━━━━━━━━━━━━━━━━━━━━━━━━━━━━━━━━\u001b[0m \u001b[32m43.2/43.2 kB\u001b[0m \u001b[31m2.5 MB/s\u001b[0m eta \u001b[36m0:00:00\u001b[0m\n",
            "\u001b[2K     \u001b[90m━━━━━━━━━━━━━━━━━━━━━━━━━━━━━━━━━━━━━━━━\u001b[0m \u001b[32m92.0/92.0 kB\u001b[0m \u001b[31m6.0 MB/s\u001b[0m eta \u001b[36m0:00:00\u001b[0m\n",
            "\u001b[?25h  Preparing metadata (setup.py) ... \u001b[?25l\u001b[?25hdone\n",
            "\u001b[2K     \u001b[90m━━━━━━━━━━━━━━━━━━━━━━━━━━━━━━━━━━━━━━━━\u001b[0m \u001b[32m315.9/315.9 kB\u001b[0m \u001b[31m21.6 MB/s\u001b[0m eta \u001b[36m0:00:00\u001b[0m\n",
            "\u001b[2K     \u001b[90m━━━━━━━━━━━━━━━━━━━━━━━━━━━━━━━━━━━━━━━━\u001b[0m \u001b[32m75.6/75.6 kB\u001b[0m \u001b[31m6.8 MB/s\u001b[0m eta \u001b[36m0:00:00\u001b[0m\n",
            "\u001b[2K     \u001b[90m━━━━━━━━━━━━━━━━━━━━━━━━━━━━━━━━━━━━━━━━\u001b[0m \u001b[32m142.5/142.5 kB\u001b[0m \u001b[31m5.3 MB/s\u001b[0m eta \u001b[36m0:00:00\u001b[0m\n",
            "\u001b[2K     \u001b[90m━━━━━━━━━━━━━━━━━━━━━━━━━━━━━━━━━━━━━━━━\u001b[0m \u001b[32m8.8/8.8 MB\u001b[0m \u001b[31m62.1 MB/s\u001b[0m eta \u001b[36m0:00:00\u001b[0m\n",
            "\u001b[2K     \u001b[90m━━━━━━━━━━━━━━━━━━━━━━━━━━━━━━━━━━━━━━━━\u001b[0m \u001b[32m47.2/47.2 kB\u001b[0m \u001b[31m4.8 MB/s\u001b[0m eta \u001b[36m0:00:00\u001b[0m\n",
            "\u001b[2K     \u001b[90m━━━━━━━━━━━━━━━━━━━━━━━━━━━━━━━━━━━━━━━━\u001b[0m \u001b[32m60.8/60.8 kB\u001b[0m \u001b[31m5.9 MB/s\u001b[0m eta \u001b[36m0:00:00\u001b[0m\n",
            "\u001b[2K     \u001b[90m━━━━━━━━━━━━━━━━━━━━━━━━━━━━━━━━━━━━━━━━\u001b[0m \u001b[32m129.9/129.9 kB\u001b[0m \u001b[31m2.6 MB/s\u001b[0m eta \u001b[36m0:00:00\u001b[0m\n",
            "\u001b[2K     \u001b[90m━━━━━━━━━━━━━━━━━━━━━━━━━━━━━━━━━━━━━━━━\u001b[0m \u001b[32m77.9/77.9 kB\u001b[0m \u001b[31m11.8 MB/s\u001b[0m eta \u001b[36m0:00:00\u001b[0m\n",
            "\u001b[2K     \u001b[90m━━━━━━━━━━━━━━━━━━━━━━━━━━━━━━━━━━━━━━━━\u001b[0m \u001b[32m58.3/58.3 kB\u001b[0m \u001b[31m8.8 MB/s\u001b[0m eta \u001b[36m0:00:00\u001b[0m\n",
            "\u001b[2K     \u001b[90m━━━━━━━━━━━━━━━━━━━━━━━━━━━━━━━━━━━━━━━━\u001b[0m \u001b[32m21.3/21.3 MB\u001b[0m \u001b[31m48.3 MB/s\u001b[0m eta \u001b[36m0:00:00\u001b[0m\n",
            "\u001b[2K     \u001b[90m━━━━━━━━━━━━━━━━━━━━━━━━━━━━━━━━━━━━━━━━\u001b[0m \u001b[32m71.9/71.9 kB\u001b[0m \u001b[31m10.9 MB/s\u001b[0m eta \u001b[36m0:00:00\u001b[0m\n",
            "\u001b[2K     \u001b[90m━━━━━━━━━━━━━━━━━━━━━━━━━━━━━━━━━━━━━━━━\u001b[0m \u001b[32m53.6/53.6 kB\u001b[0m \u001b[31m7.3 MB/s\u001b[0m eta \u001b[36m0:00:00\u001b[0m\n",
            "\u001b[2K     \u001b[90m━━━━━━━━━━━━━━━━━━━━━━━━━━━━━━━━━━━━━━━━\u001b[0m \u001b[32m307.7/307.7 kB\u001b[0m \u001b[31m32.7 MB/s\u001b[0m eta \u001b[36m0:00:00\u001b[0m\n",
            "\u001b[2K     \u001b[90m━━━━━━━━━━━━━━━━━━━━━━━━━━━━━━━━━━━━━━━━\u001b[0m \u001b[32m341.4/341.4 kB\u001b[0m \u001b[31m40.9 MB/s\u001b[0m eta \u001b[36m0:00:00\u001b[0m\n",
            "\u001b[2K     \u001b[90m━━━━━━━━━━━━━━━━━━━━━━━━━━━━━━━━━━━━━━━━\u001b[0m \u001b[32m3.4/3.4 MB\u001b[0m \u001b[31m96.7 MB/s\u001b[0m eta \u001b[36m0:00:00\u001b[0m\n",
            "\u001b[2K     \u001b[90m━━━━━━━━━━━━━━━━━━━━━━━━━━━━━━━━━━━━━━━━\u001b[0m \u001b[32m1.3/1.3 MB\u001b[0m \u001b[31m75.0 MB/s\u001b[0m eta \u001b[36m0:00:00\u001b[0m\n",
            "\u001b[?25h  Building wheel for ffmpy (setup.py) ... \u001b[?25l\u001b[?25hdone\n",
            "\u001b[31mERROR: pip's dependency resolver does not currently take into account all the packages that are installed. This behaviour is the source of the following dependency conflicts.\n",
            "spacy 3.7.4 requires typer<0.10.0,>=0.3.0, but you have typer 0.12.3 which is incompatible.\n",
            "weasel 0.3.4 requires typer<0.10.0,>=0.3.0, but you have typer 0.12.3 which is incompatible.\u001b[0m\u001b[31m\n",
            "\u001b[0m"
          ]
        }
      ],
      "source": [
        "!pip install -q gradio scikit-learn-extra ultralytics einops"
      ]
    },
    {
      "cell_type": "code",
      "execution_count": null,
      "metadata": {
        "colab": {
          "base_uri": "https://localhost:8080/"
        },
        "id": "DUG1GZ6SrLCw",
        "outputId": "e3b82180-31d1-45de-b359-b8a43fc3464f"
      },
      "outputs": [
        {
          "output_type": "stream",
          "name": "stdout",
          "text": [
            "  Installing build dependencies ... \u001b[?25l\u001b[?25hdone\n",
            "  Getting requirements to build wheel ... \u001b[?25l\u001b[?25hdone\n",
            "  Preparing metadata (pyproject.toml) ... \u001b[?25l\u001b[?25hdone\n",
            "  Installing build dependencies ... \u001b[?25l\u001b[?25hdone\n",
            "  Getting requirements to build wheel ... \u001b[?25l\u001b[?25hdone\n",
            "  Preparing metadata (pyproject.toml) ... \u001b[?25l\u001b[?25hdone\n",
            "\u001b[2K     \u001b[90m━━━━━━━━━━━━━━━━━━━━━━━━━━━━━━━━━━━━━━━━\u001b[0m \u001b[32m302.6/302.6 kB\u001b[0m \u001b[31m6.0 MB/s\u001b[0m eta \u001b[36m0:00:00\u001b[0m\n",
            "\u001b[?25h  Building wheel for diffusers (pyproject.toml) ... \u001b[?25l\u001b[?25hdone\n",
            "  Building wheel for transformers (pyproject.toml) ... \u001b[?25l\u001b[?25hdone\n"
          ]
        }
      ],
      "source": [
        "!pip install --quiet --upgrade git+https://github.com/huggingface/diffusers.git git+https://github.com/huggingface/transformers.git accelerate"
      ]
    },
    {
      "cell_type": "markdown",
      "metadata": {
        "id": "m6CYQEjzV4N1"
      },
      "source": [
        "## Gradio\n",
        "\n",
        "Run gradio interface"
      ]
    },
    {
      "cell_type": "code",
      "execution_count": null,
      "metadata": {
        "colab": {
          "base_uri": "https://localhost:8080/"
        },
        "id": "4844bhDNiXTM",
        "outputId": "36eb0da5-77b1-443c-e813-deeb84b042b1"
      },
      "outputs": [
        {
          "output_type": "stream",
          "name": "stdout",
          "text": [
            "Using cache found in /root/.cache/torch/hub/pytorch_vision_v0.10.0\n",
            "/usr/local/lib/python3.10/dist-packages/torchvision/models/_utils.py:208: UserWarning: The parameter 'pretrained' is deprecated since 0.13 and may be removed in the future, please use 'weights' instead.\n",
            "  warnings.warn(\n",
            "/usr/local/lib/python3.10/dist-packages/torchvision/models/_utils.py:223: UserWarning: Arguments other than a weight enum or `None` for 'weights' are deprecated since 0.13 and may be removed in the future. The current behavior is equivalent to passing `weights=ResNet18_Weights.IMAGENET1K_V1`. You can also use `weights=ResNet18_Weights.DEFAULT` to get the most up-to-date weights.\n",
            "  warnings.warn(msg)\n",
            "Running on local URL:  http://127.0.0.1:7860\n",
            "Running on public URL: https://158cee200ddce46211.gradio.live\n",
            "\n",
            "This share link expires in 72 hours. For free permanent hosting and GPU upgrades, run `gradio deploy` from Terminal to deploy to Spaces (https://huggingface.co/spaces)\n",
            "/tmp/gradio/ac2c87cdb378233182115eaac5a669d7c33c7f65/border.mp4\n",
            "/content/output/59dae54a43eb7d630a32b958c90b6399/border\n",
            "Extracting frames to /content/output/59dae54a43eb7d630a32b958c90b6399/border\n",
            "\n",
            "image 1/17 /content/output/59dae54a43eb7d630a32b958c90b6399/border/1.jpg: 640x384 1 dog, 344.7ms\n",
            "image 2/17 /content/output/59dae54a43eb7d630a32b958c90b6399/border/10.jpg: 640x384 1 dog, 5 cows, 64.0ms\n",
            "image 3/17 /content/output/59dae54a43eb7d630a32b958c90b6399/border/11.jpg: 640x384 1 dog, 6 cows, 63.8ms\n",
            "image 4/17 /content/output/59dae54a43eb7d630a32b958c90b6399/border/12.jpg: 640x384 1 bench, 1 dog, 5 cows, 56.7ms\n",
            "image 5/17 /content/output/59dae54a43eb7d630a32b958c90b6399/border/13.jpg: 640x384 1 bench, 1 dog, 4 cows, 37.4ms\n",
            "image 6/17 /content/output/59dae54a43eb7d630a32b958c90b6399/border/14.jpg: 640x384 1 dog, 5 cows, 36.4ms\n",
            "image 7/17 /content/output/59dae54a43eb7d630a32b958c90b6399/border/15.jpg: 640x384 1 bench, 1 dog, 3 cows, 36.4ms\n",
            "image 8/17 /content/output/59dae54a43eb7d630a32b958c90b6399/border/16.jpg: 640x384 1 dog, 6 cows, 35.4ms\n",
            "image 9/17 /content/output/59dae54a43eb7d630a32b958c90b6399/border/17.jpg: 640x384 1 dog, 6 cows, 37.0ms\n",
            "image 10/17 /content/output/59dae54a43eb7d630a32b958c90b6399/border/2.jpg: 640x384 1 dog, 4 cows, 36.1ms\n",
            "image 11/17 /content/output/59dae54a43eb7d630a32b958c90b6399/border/3.jpg: 640x384 1 dog, 6 cows, 35.3ms\n",
            "image 12/17 /content/output/59dae54a43eb7d630a32b958c90b6399/border/4.jpg: 640x384 1 dog, 6 cows, 35.0ms\n",
            "image 13/17 /content/output/59dae54a43eb7d630a32b958c90b6399/border/5.jpg: 640x384 1 dog, 5 cows, 34.9ms\n",
            "image 14/17 /content/output/59dae54a43eb7d630a32b958c90b6399/border/6.jpg: 640x384 1 dog, 4 cows, 35.0ms\n",
            "image 15/17 /content/output/59dae54a43eb7d630a32b958c90b6399/border/7.jpg: 640x384 1 dog, 5 cows, 35.1ms\n",
            "image 16/17 /content/output/59dae54a43eb7d630a32b958c90b6399/border/8.jpg: 640x384 1 dog, 6 cows, 36.7ms\n",
            "image 17/17 /content/output/59dae54a43eb7d630a32b958c90b6399/border/9.jpg: 640x384 1 dog, 6 cows, 36.5ms\n",
            "Speed: 1.9ms preprocess, 58.6ms inference, 46.1ms postprocess per image at shape (1, 3, 640, 384)\n",
            "/usr/local/lib/python3.10/dist-packages/torch/nn/modules/conv.py:456: UserWarning: Plan failed with a cudnnException: CUDNN_BACKEND_EXECUTION_PLAN_DESCRIPTOR: cudnnFinalize Descriptor Failed cudnn_status: CUDNN_STATUS_NOT_SUPPORTED (Triggered internally at ../aten/src/ATen/native/cudnn/Conv_v8.cpp:919.)\n",
            "  return F.conv2d(input, weight, bias, self.stride,\n",
            "Special tokens have been added in the vocabulary, make sure the associated word embeddings are fine-tuned or trained.\n",
            "Unloading Moondream2 model...\n",
            "Loading pipeline components...: 100% 11/11 [00:18<00:00,  1.69s/it]\n",
            "Generating with prompt: \n",
            " Melodic, clear and high-quality music based on A black and white dog is walking towards a group of cows in a field, with a fence visible in the background.Mood of cow,dog,bench \n",
            "100% 150/150 [02:58<00:00,  1.19s/it]\n",
            "/usr/local/lib/python3.10/dist-packages/torch/nn/modules/conv.py:456: UserWarning: Plan failed with a cudnnException: CUDNN_BACKEND_EXECUTION_PLAN_DESCRIPTOR: cudnnFinalize Descriptor Failed cudnn_status: CUDNN_STATUS_NOT_SUPPORTED (Triggered internally at ../aten/src/ATen/native/cudnn/Conv_v8.cpp:919.)\n",
            "  return F.conv2d(input, weight, bias, self.stride,\n",
            "Audio generated in:  /content/output/59dae54a43eb7d630a32b958c90b6399/border.mp4.wav\n",
            "Generating with prompt: \n",
            " High-quality and clear sound effects based on A black and white dog is walking towards a group of cows in a field, with a fence visible in the background. Background sounds of: cow,dog,bench \n",
            "100% 50/50 [00:59<00:00,  1.19s/it]\n",
            "Audio generated in:  /content/output/59dae54a43eb7d630a32b958c90b6399/border.mp4_sounds.wav\n",
            "ffmpeg version 4.4.2-0ubuntu0.22.04.1 Copyright (c) 2000-2021 the FFmpeg developers\n",
            "  built with gcc 11 (Ubuntu 11.2.0-19ubuntu1)\n",
            "  configuration: --prefix=/usr --extra-version=0ubuntu0.22.04.1 --toolchain=hardened --libdir=/usr/lib/x86_64-linux-gnu --incdir=/usr/include/x86_64-linux-gnu --arch=amd64 --enable-gpl --disable-stripping --enable-gnutls --enable-ladspa --enable-libaom --enable-libass --enable-libbluray --enable-libbs2b --enable-libcaca --enable-libcdio --enable-libcodec2 --enable-libdav1d --enable-libflite --enable-libfontconfig --enable-libfreetype --enable-libfribidi --enable-libgme --enable-libgsm --enable-libjack --enable-libmp3lame --enable-libmysofa --enable-libopenjpeg --enable-libopenmpt --enable-libopus --enable-libpulse --enable-librabbitmq --enable-librubberband --enable-libshine --enable-libsnappy --enable-libsoxr --enable-libspeex --enable-libsrt --enable-libssh --enable-libtheora --enable-libtwolame --enable-libvidstab --enable-libvorbis --enable-libvpx --enable-libwebp --enable-libx265 --enable-libxml2 --enable-libxvid --enable-libzimg --enable-libzmq --enable-libzvbi --enable-lv2 --enable-omx --enable-openal --enable-opencl --enable-opengl --enable-sdl2 --enable-pocketsphinx --enable-librsvg --enable-libmfx --enable-libdc1394 --enable-libdrm --enable-libiec61883 --enable-chromaprint --enable-frei0r --enable-libx264 --enable-shared\n",
            "  libavutil      56. 70.100 / 56. 70.100\n",
            "  libavcodec     58.134.100 / 58.134.100\n",
            "  libavformat    58. 76.100 / 58. 76.100\n",
            "  libavdevice    58. 13.100 / 58. 13.100\n",
            "  libavfilter     7.110.100 /  7.110.100\n",
            "  libswscale      5.  9.100 /  5.  9.100\n",
            "  libswresample   3.  9.100 /  3.  9.100\n",
            "  libpostproc    55.  9.100 / 55.  9.100\n",
            "Input #0, mov,mp4,m4a,3gp,3g2,mj2, from '/tmp/gradio/ac2c87cdb378233182115eaac5a669d7c33c7f65/border.mp4':\n",
            "  Metadata:\n",
            "    major_brand     : mp42\n",
            "    minor_version   : 0\n",
            "    compatible_brands: isommp42\n",
            "    creation_time   : 2022-06-01T03:07:25.000000Z\n",
            "  Duration: 00:00:53.06, start: 0.000000, bitrate: 634 kb/s\n",
            "  Stream #0:0(und): Video: h264 (High) (avc1 / 0x31637661), yuv420p(tv, smpte170m/bt470bg/bt709), 406x720 [SAR 1:1 DAR 203:360], 503 kb/s, 29.95 fps, 29.95 tbr, 14977 tbn, 59.91 tbc (default)\n",
            "    Metadata:\n",
            "      creation_time   : 2022-06-01T03:07:25.000000Z\n",
            "      handler_name    : ISO Media file produced by Google Inc. Created on: 05/31/2022.\n",
            "      vendor_id       : [0][0][0][0]\n",
            "  Stream #0:1(eng): Audio: aac (LC) (mp4a / 0x6134706D), 44100 Hz, stereo, fltp, 128 kb/s (default)\n",
            "    Metadata:\n",
            "      creation_time   : 2022-06-01T03:07:25.000000Z\n",
            "      handler_name    : ISO Media file produced by Google Inc. Created on: 05/31/2022.\n",
            "      vendor_id       : [0][0][0][0]\n",
            "Output #0, mp4, to '/content/output/temp_video.mp4':\n",
            "  Metadata:\n",
            "    major_brand     : mp42\n",
            "    minor_version   : 0\n",
            "    compatible_brands: isommp42\n",
            "    encoder         : Lavf58.76.100\n",
            "  Stream #0:0(und): Video: h264 (High) (avc1 / 0x31637661), yuv420p(tv, smpte170m/bt470bg/bt709), 406x720 [SAR 1:1 DAR 203:360], q=2-31, 503 kb/s, 29.95 fps, 29.95 tbr, 14977 tbn, 14977 tbc (default)\n",
            "    Metadata:\n",
            "      creation_time   : 2022-06-01T03:07:25.000000Z\n",
            "      handler_name    : ISO Media file produced by Google Inc. Created on: 05/31/2022.\n",
            "      vendor_id       : [0][0][0][0]\n",
            "Stream mapping:\n",
            "  Stream #0:0 -> #0:0 (copy)\n",
            "Press [q] to stop, [?] for help\n",
            "frame= 1589 fps=0.0 q=-1.0 Lsize=    3270kB time=00:00:52.98 bitrate= 505.6kbits/s speed=1.97e+03x    \n",
            "video:3257kB audio:0kB subtitle:0kB other streams:0kB global headers:0kB muxing overhead: 0.391105%\n",
            "ffmpeg version 4.4.2-0ubuntu0.22.04.1 Copyright (c) 2000-2021 the FFmpeg developers\n",
            "  built with gcc 11 (Ubuntu 11.2.0-19ubuntu1)\n",
            "  configuration: --prefix=/usr --extra-version=0ubuntu0.22.04.1 --toolchain=hardened --libdir=/usr/lib/x86_64-linux-gnu --incdir=/usr/include/x86_64-linux-gnu --arch=amd64 --enable-gpl --disable-stripping --enable-gnutls --enable-ladspa --enable-libaom --enable-libass --enable-libbluray --enable-libbs2b --enable-libcaca --enable-libcdio --enable-libcodec2 --enable-libdav1d --enable-libflite --enable-libfontconfig --enable-libfreetype --enable-libfribidi --enable-libgme --enable-libgsm --enable-libjack --enable-libmp3lame --enable-libmysofa --enable-libopenjpeg --enable-libopenmpt --enable-libopus --enable-libpulse --enable-librabbitmq --enable-librubberband --enable-libshine --enable-libsnappy --enable-libsoxr --enable-libspeex --enable-libsrt --enable-libssh --enable-libtheora --enable-libtwolame --enable-libvidstab --enable-libvorbis --enable-libvpx --enable-libwebp --enable-libx265 --enable-libxml2 --enable-libxvid --enable-libzimg --enable-libzmq --enable-libzvbi --enable-lv2 --enable-omx --enable-openal --enable-opencl --enable-opengl --enable-sdl2 --enable-pocketsphinx --enable-librsvg --enable-libmfx --enable-libdc1394 --enable-libdrm --enable-libiec61883 --enable-chromaprint --enable-frei0r --enable-libx264 --enable-shared\n",
            "  libavutil      56. 70.100 / 56. 70.100\n",
            "  libavcodec     58.134.100 / 58.134.100\n",
            "  libavformat    58. 76.100 / 58. 76.100\n",
            "  libavdevice    58. 13.100 / 58. 13.100\n",
            "  libavfilter     7.110.100 /  7.110.100\n",
            "  libswscale      5.  9.100 /  5.  9.100\n",
            "  libswresample   3.  9.100 /  3.  9.100\n",
            "  libpostproc    55.  9.100 / 55.  9.100\n",
            "Input #0, mov,mp4,m4a,3gp,3g2,mj2, from '/content/output/temp_video.mp4':\n",
            "  Metadata:\n",
            "    major_brand     : isom\n",
            "    minor_version   : 512\n",
            "    compatible_brands: isomiso2avc1mp41\n",
            "    encoder         : Lavf58.76.100\n",
            "  Duration: 00:00:53.05, start: 0.000000, bitrate: 504 kb/s\n",
            "  Stream #0:0(und): Video: h264 (High) (avc1 / 0x31637661), yuv420p(tv, smpte170m/bt470bg/bt709), 406x720 [SAR 1:1 DAR 203:360], 503 kb/s, 29.95 fps, 29.95 tbr, 14977 tbn, 59.91 tbc (default)\n",
            "    Metadata:\n",
            "      handler_name    : ISO Media file produced by Google Inc. Created on: 05/31/2022.\n",
            "      vendor_id       : [0][0][0][0]\n",
            "\u001b[0;33mGuessed Channel Layout for Input Stream #1.0 : mono\n",
            "\u001b[0mInput #1, wav, from '/content/output/59dae54a43eb7d630a32b958c90b6399/border.mp4.wav':\n",
            "  Duration: 00:00:53.00, bitrate: 512 kb/s\n",
            "  Stream #1:0: Audio: pcm_f32le ([3][0][0][0] / 0x0003), 16000 Hz, mono, flt, 512 kb/s\n",
            "Stream mapping:\n",
            "  Stream #0:0 -> #0:0 (copy)\n",
            "  Stream #1:0 -> #0:1 (pcm_f32le (native) -> aac (native))\n",
            "Press [q] to stop, [?] for help\n",
            "Output #0, mp4, to '/content/output/border.mp4_enhanced.mp4':\n",
            "  Metadata:\n",
            "    major_brand     : isom\n",
            "    minor_version   : 512\n",
            "    compatible_brands: isomiso2avc1mp41\n",
            "    encoder         : Lavf58.76.100\n",
            "  Stream #0:0(und): Video: h264 (High) (avc1 / 0x31637661), yuv420p(tv, smpte170m/bt470bg/bt709), 406x720 [SAR 1:1 DAR 203:360], q=2-31, 503 kb/s, 29.95 fps, 29.95 tbr, 14977 tbn, 14977 tbc (default)\n",
            "    Metadata:\n",
            "      handler_name    : ISO Media file produced by Google Inc. Created on: 05/31/2022.\n",
            "      vendor_id       : [0][0][0][0]\n",
            "  Stream #0:1: Audio: aac (LC) (mp4a / 0x6134706D), 16000 Hz, mono, fltp, 69 kb/s\n",
            "    Metadata:\n",
            "      encoder         : Lavc58.134.100 aac\n",
            "frame= 1589 fps=0.0 q=-1.0 Lsize=    3730kB time=00:00:52.99 bitrate= 576.7kbits/s speed= 163x    \n",
            "video:3257kB audio:449kB subtitle:0kB other streams:0kB global headers:0kB muxing overhead: 0.663295%\n",
            "\u001b[1;36m[aac @ 0x56ad2a34b280] \u001b[0mQavg: 218.828\n",
            "ffmpeg version 4.4.2-0ubuntu0.22.04.1 Copyright (c) 2000-2021 the FFmpeg developers\n",
            "  built with gcc 11 (Ubuntu 11.2.0-19ubuntu1)\n",
            "  configuration: --prefix=/usr --extra-version=0ubuntu0.22.04.1 --toolchain=hardened --libdir=/usr/lib/x86_64-linux-gnu --incdir=/usr/include/x86_64-linux-gnu --arch=amd64 --enable-gpl --disable-stripping --enable-gnutls --enable-ladspa --enable-libaom --enable-libass --enable-libbluray --enable-libbs2b --enable-libcaca --enable-libcdio --enable-libcodec2 --enable-libdav1d --enable-libflite --enable-libfontconfig --enable-libfreetype --enable-libfribidi --enable-libgme --enable-libgsm --enable-libjack --enable-libmp3lame --enable-libmysofa --enable-libopenjpeg --enable-libopenmpt --enable-libopus --enable-libpulse --enable-librabbitmq --enable-librubberband --enable-libshine --enable-libsnappy --enable-libsoxr --enable-libspeex --enable-libsrt --enable-libssh --enable-libtheora --enable-libtwolame --enable-libvidstab --enable-libvorbis --enable-libvpx --enable-libwebp --enable-libx265 --enable-libxml2 --enable-libxvid --enable-libzimg --enable-libzmq --enable-libzvbi --enable-lv2 --enable-omx --enable-openal --enable-opencl --enable-opengl --enable-sdl2 --enable-pocketsphinx --enable-librsvg --enable-libmfx --enable-libdc1394 --enable-libdrm --enable-libiec61883 --enable-chromaprint --enable-frei0r --enable-libx264 --enable-shared\n",
            "  libavutil      56. 70.100 / 56. 70.100\n",
            "  libavcodec     58.134.100 / 58.134.100\n",
            "  libavformat    58. 76.100 / 58. 76.100\n",
            "  libavdevice    58. 13.100 / 58. 13.100\n",
            "  libavfilter     7.110.100 /  7.110.100\n",
            "  libswscale      5.  9.100 /  5.  9.100\n",
            "  libswresample   3.  9.100 /  3.  9.100\n",
            "  libpostproc    55.  9.100 / 55.  9.100\n",
            "Input #0, mov,mp4,m4a,3gp,3g2,mj2, from '/content/output/border.mp4_enhanced.mp4':\n",
            "  Metadata:\n",
            "    major_brand     : isom\n",
            "    minor_version   : 512\n",
            "    compatible_brands: isomiso2avc1mp41\n",
            "    encoder         : Lavf58.76.100\n",
            "  Duration: 00:00:53.05, start: 0.000000, bitrate: 576 kb/s\n",
            "  Stream #0:0(und): Video: h264 (High) (avc1 / 0x31637661), yuv420p(tv, smpte170m/bt470bg/bt709), 406x720 [SAR 1:1 DAR 203:360], 503 kb/s, 29.95 fps, 29.95 tbr, 14977 tbn, 59.91 tbc (default)\n",
            "    Metadata:\n",
            "      handler_name    : ISO Media file produced by Google Inc. Created on: 05/31/2022.\n",
            "      vendor_id       : [0][0][0][0]\n",
            "  Stream #0:1(und): Audio: aac (LC) (mp4a / 0x6134706D), 16000 Hz, mono, fltp, 69 kb/s (default)\n",
            "    Metadata:\n",
            "      handler_name    : SoundHandler\n",
            "      vendor_id       : [0][0][0][0]\n",
            "\u001b[0;33mGuessed Channel Layout for Input Stream #1.0 : mono\n",
            "\u001b[0mInput #1, wav, from '/content/output/59dae54a43eb7d630a32b958c90b6399/border.mp4_sounds.wav':\n",
            "  Duration: 00:00:53.00, bitrate: 512 kb/s\n",
            "  Stream #1:0: Audio: pcm_f32le ([3][0][0][0] / 0x0003), 16000 Hz, mono, flt, 512 kb/s\n",
            "Stream mapping:\n",
            "  Stream #0:1 (aac) -> volume (graph 0)\n",
            "  Stream #1:0 (pcm_f32le) -> volume (graph 0)\n",
            "  amix (graph 0) -> Stream #0:0 (aac)\n",
            "  Stream #0:0 -> #0:1 (h264 (native) -> h264 (libx264))\n",
            "Press [q] to stop, [?] for help\n",
            "\u001b[1;36m[libx264 @ 0x5bc3041cf540] \u001b[0musing SAR=1/1\n",
            "\u001b[1;36m[libx264 @ 0x5bc3041cf540] \u001b[0musing cpu capabilities: MMX2 SSE2Fast SSSE3 SSE4.2 AVX FMA3 BMI2 AVX2 AVX512\n",
            "\u001b[1;36m[libx264 @ 0x5bc3041cf540] \u001b[0mprofile High, level 3.0, 4:2:0, 8-bit\n",
            "\u001b[1;36m[libx264 @ 0x5bc3041cf540] \u001b[0m264 - core 163 r3060 5db6aa6 - H.264/MPEG-4 AVC codec - Copyleft 2003-2021 - http://www.videolan.org/x264.html - options: cabac=1 ref=3 deblock=1:0:0 analyse=0x3:0x113 me=hex subme=7 psy=1 psy_rd=1.00:0.00 mixed_ref=1 me_range=16 chroma_me=1 trellis=1 8x8dct=1 cqm=0 deadzone=21,11 fast_pskip=1 chroma_qp_offset=-2 threads=3 lookahead_threads=1 sliced_threads=0 nr=0 decimate=1 interlaced=0 bluray_compat=0 constrained_intra=0 bframes=3 b_pyramid=2 b_adapt=1 b_bias=0 direct=1 weightb=1 open_gop=0 weightp=2 keyint=250 keyint_min=25 scenecut=40 intra_refresh=0 rc_lookahead=40 rc=crf mbtree=1 crf=23.0 qcomp=0.60 qpmin=0 qpmax=69 qpstep=4 ip_ratio=1.40 aq=1:1.00\n",
            "Output #0, mp4, to '/content/output/temp_output.mp4':\n",
            "  Metadata:\n",
            "    major_brand     : isom\n",
            "    minor_version   : 512\n",
            "    compatible_brands: isomiso2avc1mp41\n",
            "    encoder         : Lavf58.76.100\n",
            "  Stream #0:0: Audio: aac (LC) (mp4a / 0x6134706D), 16000 Hz, mono, fltp, 69 kb/s (default)\n",
            "    Metadata:\n",
            "      encoder         : Lavc58.134.100 aac\n",
            "  Stream #0:1(und): Video: h264 (avc1 / 0x31637661), yuv420p(tv, smpte170m/bt470bg/bt709, progressive), 406x720 [SAR 1:1 DAR 203:360], q=2-31, 29.95 fps, 14977 tbn (default)\n",
            "    Metadata:\n",
            "      handler_name    : ISO Media file produced by Google Inc. Created on: 05/31/2022.\n",
            "      vendor_id       : [0][0][0][0]\n",
            "      encoder         : Lavc58.134.100 libx264\n",
            "    Side data:\n",
            "      cpb: bitrate max/min/avg: 0/0/0 buffer size: 0 vbv_delay: N/A\n",
            "frame= 1589 fps= 46 q=-1.0 Lsize=    5545kB time=00:00:52.94 bitrate= 857.9kbits/s speed=1.54x    \n",
            "video:5142kB audio:436kB subtitle:0kB other streams:0kB global headers:0kB muxing overhead: unknown\n",
            "\u001b[1;36m[aac @ 0x5bc3041ce200] \u001b[0mQavg: 141.508\n",
            "\u001b[1;36m[libx264 @ 0x5bc3041cf540] \u001b[0mframe I:7     Avg QP:20.00  size: 59585\n",
            "\u001b[1;36m[libx264 @ 0x5bc3041cf540] \u001b[0mframe P:401   Avg QP:23.02  size:  8889\n",
            "\u001b[1;36m[libx264 @ 0x5bc3041cf540] \u001b[0mframe B:1181  Avg QP:27.72  size:  1087\n",
            "\u001b[1;36m[libx264 @ 0x5bc3041cf540] \u001b[0mconsecutive B-frames:  0.5%  0.5%  2.1% 96.9%\n",
            "\u001b[1;36m[libx264 @ 0x5bc3041cf540] \u001b[0mmb I  I16..4:  1.8% 60.6% 37.6%\n",
            "\u001b[1;36m[libx264 @ 0x5bc3041cf540] \u001b[0mmb P  I16..4:  0.7%  2.9%  1.4%  P16..4: 47.3% 17.3% 13.3%  0.0%  0.0%    skip:17.0%\n",
            "\u001b[1;36m[libx264 @ 0x5bc3041cf540] \u001b[0mmb B  I16..4:  0.0%  0.2%  0.1%  B16..8: 49.1%  2.3%  0.8%  direct: 0.5%  skip:47.0%  L0:47.8% L1:48.5% BI: 3.7%\n",
            "\u001b[1;36m[libx264 @ 0x5bc3041cf540] \u001b[0m8x8 transform intra:58.8% inter:58.0%\n",
            "\u001b[1;36m[libx264 @ 0x5bc3041cf540] \u001b[0mcoded y,uvDC,uvAC intra: 69.6% 62.6% 15.8% inter: 10.4% 5.3% 0.0%\n",
            "\u001b[1;36m[libx264 @ 0x5bc3041cf540] \u001b[0mi16 v,h,dc,p: 17% 49% 17% 18%\n",
            "\u001b[1;36m[libx264 @ 0x5bc3041cf540] \u001b[0mi8 v,h,dc,ddl,ddr,vr,hd,vl,hu: 10% 28% 22%  4%  8%  7%  9%  5%  7%\n",
            "\u001b[1;36m[libx264 @ 0x5bc3041cf540] \u001b[0mi4 v,h,dc,ddl,ddr,vr,hd,vl,hu: 14% 29% 16%  5%  7%  7%  8%  6%  7%\n",
            "\u001b[1;36m[libx264 @ 0x5bc3041cf540] \u001b[0mi8c dc,h,v,p: 53% 28% 14%  6%\n",
            "\u001b[1;36m[libx264 @ 0x5bc3041cf540] \u001b[0mWeighted P-Frames: Y:15.0% UV:1.2%\n",
            "\u001b[1;36m[libx264 @ 0x5bc3041cf540] \u001b[0mref P L0: 56.4% 21.2% 15.2%  6.7%  0.5%\n",
            "\u001b[1;36m[libx264 @ 0x5bc3041cf540] \u001b[0mref B L0: 84.3% 12.7%  3.0%\n",
            "\u001b[1;36m[libx264 @ 0x5bc3041cf540] \u001b[0mref B L1: 92.4%  7.6%\n",
            "\u001b[1;36m[libx264 @ 0x5bc3041cf540] \u001b[0mkb/s:793.95\n",
            "Video enhanced with audio saved in: /content/output/border.mp4_enhanced.mp4\n",
            "Keyboard interruption in main thread... closing server.\n",
            "Traceback (most recent call last):\n",
            "  File \"/usr/local/lib/python3.10/dist-packages/gradio/blocks.py\", line 2619, in block_thread\n",
            "    time.sleep(0.1)\n",
            "KeyboardInterrupt\n",
            "\n",
            "During handling of the above exception, another exception occurred:\n",
            "\n",
            "Traceback (most recent call last):\n",
            "  File \"/content/gradio_interface.py\", line 102, in <module>\n",
            "    demo.launch(share=True)\n",
            "  File \"/usr/local/lib/python3.10/dist-packages/gradio/blocks.py\", line 2524, in launch\n",
            "    self.block_thread()\n",
            "  File \"/usr/local/lib/python3.10/dist-packages/gradio/blocks.py\", line 2623, in block_thread\n",
            "    self.server.close()\n",
            "  File \"/usr/local/lib/python3.10/dist-packages/gradio/http_server.py\", line 68, in close\n",
            "    self.thread.join(timeout=5)\n",
            "  File \"/usr/lib/python3.10/threading.py\", line 1100, in join\n",
            "    self._wait_for_tstate_lock(timeout=max(timeout, 0))\n",
            "  File \"/usr/lib/python3.10/threading.py\", line 1116, in _wait_for_tstate_lock\n",
            "    if lock.acquire(block, timeout):\n",
            "KeyboardInterrupt\n",
            "Killing tunnel 127.0.0.1:7860 <> https://158cee200ddce46211.gradio.live\n"
          ]
        }
      ],
      "source": [
        "!python gradio_interface.py"
      ]
    },
    {
      "cell_type": "markdown",
      "metadata": {
        "id": "x_zuSQ_SV7hy"
      },
      "source": [
        "## Main Debugging"
      ]
    },
    {
      "cell_type": "code",
      "execution_count": null,
      "metadata": {
        "id": "yMvxfUKylVn5"
      },
      "outputs": [],
      "source": [
        "!python main.py"
      ]
    },
    {
      "cell_type": "code",
      "execution_count": null,
      "metadata": {
        "id": "UI4W-PyarRWh"
      },
      "outputs": [],
      "source": [
        "!python audioldm2.py"
      ]
    }
  ],
  "metadata": {
    "accelerator": "GPU",
    "colab": {
      "gpuType": "T4",
      "provenance": [],
      "collapsed_sections": [
        "jMFf613XU5sJ",
        "x_zuSQ_SV7hy"
      ]
    },
    "kernelspec": {
      "display_name": "Python 3",
      "name": "python3"
    },
    "language_info": {
      "name": "python"
    }
  },
  "nbformat": 4,
  "nbformat_minor": 0
}