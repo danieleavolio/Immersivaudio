{
  "cells": [
    {
      "cell_type": "markdown",
      "metadata": {
        "id": "saPeVyxMllld"
      },
      "source": [
        "# THIS IS JUST TO SEE IF EVERYTHING WORKS"
      ]
    },
    {
      "cell_type": "markdown",
      "metadata": {
        "id": "0ZOkQ-0qlr3k"
      },
      "source": [
        "Since I don't want to upload every script manually, all the scripts content will be initialized here."
      ]
    },
    {
      "cell_type": "markdown",
      "metadata": {
        "id": "G4mzz5o2mHZr"
      },
      "source": [
        "Dependencies"
      ]
    },
    {
      "cell_type": "code",
      "execution_count": 1,
      "metadata": {
        "colab": {
          "base_uri": "https://localhost:8080/"
        },
        "id": "_LtZoyGdmI6s",
        "outputId": "4186a344-f047-48a3-930c-8b09f6d16d3c"
      },
      "outputs": [
        {
          "name": "stdout",
          "output_type": "stream",
          "text": [
            "Reading package lists... Done\n",
            "Building dependency tree... Done\n",
            "Reading state information... Done\n",
            "ffmpeg is already the newest version (7:4.4.2-0ubuntu0.22.04.1).\n",
            "0 upgraded, 0 newly installed, 0 to remove and 45 not upgraded.\n",
            "Collecting ultralytics\n",
            "  Downloading ultralytics-8.2.11-py3-none-any.whl (756 kB)\n",
            "\u001b[2K     \u001b[90m━━━━━━━━━━━━━━━━━━━━━━━━━━━━━━━━━━━━━━━━\u001b[0m \u001b[32m756.5/756.5 kB\u001b[0m \u001b[31m5.6 MB/s\u001b[0m eta \u001b[36m0:00:00\u001b[0m\n",
            "\u001b[?25hRequirement already satisfied: matplotlib>=3.3.0 in /usr/local/lib/python3.10/dist-packages (from ultralytics) (3.7.1)\n",
            "Requirement already satisfied: opencv-python>=4.6.0 in /usr/local/lib/python3.10/dist-packages (from ultralytics) (4.8.0.76)\n",
            "Requirement already satisfied: pillow>=7.1.2 in /usr/local/lib/python3.10/dist-packages (from ultralytics) (9.4.0)\n",
            "Requirement already satisfied: pyyaml>=5.3.1 in /usr/local/lib/python3.10/dist-packages (from ultralytics) (6.0.1)\n",
            "Requirement already satisfied: requests>=2.23.0 in /usr/local/lib/python3.10/dist-packages (from ultralytics) (2.31.0)\n",
            "Requirement already satisfied: scipy>=1.4.1 in /usr/local/lib/python3.10/dist-packages (from ultralytics) (1.11.4)\n",
            "Requirement already satisfied: torch>=1.8.0 in /usr/local/lib/python3.10/dist-packages (from ultralytics) (2.2.1+cu121)\n",
            "Requirement already satisfied: torchvision>=0.9.0 in /usr/local/lib/python3.10/dist-packages (from ultralytics) (0.17.1+cu121)\n",
            "Requirement already satisfied: tqdm>=4.64.0 in /usr/local/lib/python3.10/dist-packages (from ultralytics) (4.66.4)\n",
            "Requirement already satisfied: psutil in /usr/local/lib/python3.10/dist-packages (from ultralytics) (5.9.5)\n",
            "Requirement already satisfied: py-cpuinfo in /usr/local/lib/python3.10/dist-packages (from ultralytics) (9.0.0)\n",
            "Collecting thop>=0.1.1 (from ultralytics)\n",
            "  Downloading thop-0.1.1.post2209072238-py3-none-any.whl (15 kB)\n",
            "Requirement already satisfied: pandas>=1.1.4 in /usr/local/lib/python3.10/dist-packages (from ultralytics) (2.0.3)\n",
            "Requirement already satisfied: seaborn>=0.11.0 in /usr/local/lib/python3.10/dist-packages (from ultralytics) (0.13.1)\n",
            "Requirement already satisfied: contourpy>=1.0.1 in /usr/local/lib/python3.10/dist-packages (from matplotlib>=3.3.0->ultralytics) (1.2.1)\n",
            "Requirement already satisfied: cycler>=0.10 in /usr/local/lib/python3.10/dist-packages (from matplotlib>=3.3.0->ultralytics) (0.12.1)\n",
            "Requirement already satisfied: fonttools>=4.22.0 in /usr/local/lib/python3.10/dist-packages (from matplotlib>=3.3.0->ultralytics) (4.51.0)\n",
            "Requirement already satisfied: kiwisolver>=1.0.1 in /usr/local/lib/python3.10/dist-packages (from matplotlib>=3.3.0->ultralytics) (1.4.5)\n",
            "Requirement already satisfied: numpy>=1.20 in /usr/local/lib/python3.10/dist-packages (from matplotlib>=3.3.0->ultralytics) (1.25.2)\n",
            "Requirement already satisfied: packaging>=20.0 in /usr/local/lib/python3.10/dist-packages (from matplotlib>=3.3.0->ultralytics) (24.0)\n",
            "Requirement already satisfied: pyparsing>=2.3.1 in /usr/local/lib/python3.10/dist-packages (from matplotlib>=3.3.0->ultralytics) (3.1.2)\n",
            "Requirement already satisfied: python-dateutil>=2.7 in /usr/local/lib/python3.10/dist-packages (from matplotlib>=3.3.0->ultralytics) (2.8.2)\n",
            "Requirement already satisfied: pytz>=2020.1 in /usr/local/lib/python3.10/dist-packages (from pandas>=1.1.4->ultralytics) (2023.4)\n",
            "Requirement already satisfied: tzdata>=2022.1 in /usr/local/lib/python3.10/dist-packages (from pandas>=1.1.4->ultralytics) (2024.1)\n",
            "Requirement already satisfied: charset-normalizer<4,>=2 in /usr/local/lib/python3.10/dist-packages (from requests>=2.23.0->ultralytics) (3.3.2)\n",
            "Requirement already satisfied: idna<4,>=2.5 in /usr/local/lib/python3.10/dist-packages (from requests>=2.23.0->ultralytics) (3.7)\n",
            "Requirement already satisfied: urllib3<3,>=1.21.1 in /usr/local/lib/python3.10/dist-packages (from requests>=2.23.0->ultralytics) (2.0.7)\n",
            "Requirement already satisfied: certifi>=2017.4.17 in /usr/local/lib/python3.10/dist-packages (from requests>=2.23.0->ultralytics) (2024.2.2)\n",
            "Requirement already satisfied: filelock in /usr/local/lib/python3.10/dist-packages (from torch>=1.8.0->ultralytics) (3.14.0)\n",
            "Requirement already satisfied: typing-extensions>=4.8.0 in /usr/local/lib/python3.10/dist-packages (from torch>=1.8.0->ultralytics) (4.11.0)\n",
            "Requirement already satisfied: sympy in /usr/local/lib/python3.10/dist-packages (from torch>=1.8.0->ultralytics) (1.12)\n",
            "Requirement already satisfied: networkx in /usr/local/lib/python3.10/dist-packages (from torch>=1.8.0->ultralytics) (3.3)\n",
            "Requirement already satisfied: jinja2 in /usr/local/lib/python3.10/dist-packages (from torch>=1.8.0->ultralytics) (3.1.3)\n",
            "Requirement already satisfied: fsspec in /usr/local/lib/python3.10/dist-packages (from torch>=1.8.0->ultralytics) (2023.6.0)\n",
            "Collecting nvidia-cuda-nvrtc-cu12==12.1.105 (from torch>=1.8.0->ultralytics)\n",
            "  Using cached nvidia_cuda_nvrtc_cu12-12.1.105-py3-none-manylinux1_x86_64.whl (23.7 MB)\n",
            "Collecting nvidia-cuda-runtime-cu12==12.1.105 (from torch>=1.8.0->ultralytics)\n",
            "  Using cached nvidia_cuda_runtime_cu12-12.1.105-py3-none-manylinux1_x86_64.whl (823 kB)\n",
            "Collecting nvidia-cuda-cupti-cu12==12.1.105 (from torch>=1.8.0->ultralytics)\n",
            "  Using cached nvidia_cuda_cupti_cu12-12.1.105-py3-none-manylinux1_x86_64.whl (14.1 MB)\n",
            "Collecting nvidia-cudnn-cu12==8.9.2.26 (from torch>=1.8.0->ultralytics)\n",
            "  Using cached nvidia_cudnn_cu12-8.9.2.26-py3-none-manylinux1_x86_64.whl (731.7 MB)\n",
            "Collecting nvidia-cublas-cu12==12.1.3.1 (from torch>=1.8.0->ultralytics)\n",
            "  Using cached nvidia_cublas_cu12-12.1.3.1-py3-none-manylinux1_x86_64.whl (410.6 MB)\n",
            "Collecting nvidia-cufft-cu12==11.0.2.54 (from torch>=1.8.0->ultralytics)\n",
            "  Using cached nvidia_cufft_cu12-11.0.2.54-py3-none-manylinux1_x86_64.whl (121.6 MB)\n",
            "Collecting nvidia-curand-cu12==10.3.2.106 (from torch>=1.8.0->ultralytics)\n",
            "  Using cached nvidia_curand_cu12-10.3.2.106-py3-none-manylinux1_x86_64.whl (56.5 MB)\n",
            "Collecting nvidia-cusolver-cu12==11.4.5.107 (from torch>=1.8.0->ultralytics)\n",
            "  Using cached nvidia_cusolver_cu12-11.4.5.107-py3-none-manylinux1_x86_64.whl (124.2 MB)\n",
            "Collecting nvidia-cusparse-cu12==12.1.0.106 (from torch>=1.8.0->ultralytics)\n",
            "  Using cached nvidia_cusparse_cu12-12.1.0.106-py3-none-manylinux1_x86_64.whl (196.0 MB)\n",
            "Collecting nvidia-nccl-cu12==2.19.3 (from torch>=1.8.0->ultralytics)\n",
            "  Using cached nvidia_nccl_cu12-2.19.3-py3-none-manylinux1_x86_64.whl (166.0 MB)\n",
            "Collecting nvidia-nvtx-cu12==12.1.105 (from torch>=1.8.0->ultralytics)\n",
            "  Using cached nvidia_nvtx_cu12-12.1.105-py3-none-manylinux1_x86_64.whl (99 kB)\n",
            "Requirement already satisfied: triton==2.2.0 in /usr/local/lib/python3.10/dist-packages (from torch>=1.8.0->ultralytics) (2.2.0)\n",
            "Collecting nvidia-nvjitlink-cu12 (from nvidia-cusolver-cu12==11.4.5.107->torch>=1.8.0->ultralytics)\n",
            "  Using cached nvidia_nvjitlink_cu12-12.4.127-py3-none-manylinux2014_x86_64.whl (21.1 MB)\n",
            "Requirement already satisfied: six>=1.5 in /usr/local/lib/python3.10/dist-packages (from python-dateutil>=2.7->matplotlib>=3.3.0->ultralytics) (1.16.0)\n",
            "Requirement already satisfied: MarkupSafe>=2.0 in /usr/local/lib/python3.10/dist-packages (from jinja2->torch>=1.8.0->ultralytics) (2.1.5)\n",
            "Requirement already satisfied: mpmath>=0.19 in /usr/local/lib/python3.10/dist-packages (from sympy->torch>=1.8.0->ultralytics) (1.3.0)\n",
            "Installing collected packages: nvidia-nvtx-cu12, nvidia-nvjitlink-cu12, nvidia-nccl-cu12, nvidia-curand-cu12, nvidia-cufft-cu12, nvidia-cuda-runtime-cu12, nvidia-cuda-nvrtc-cu12, nvidia-cuda-cupti-cu12, nvidia-cublas-cu12, nvidia-cusparse-cu12, nvidia-cudnn-cu12, nvidia-cusolver-cu12, thop, ultralytics\n",
            "Successfully installed nvidia-cublas-cu12-12.1.3.1 nvidia-cuda-cupti-cu12-12.1.105 nvidia-cuda-nvrtc-cu12-12.1.105 nvidia-cuda-runtime-cu12-12.1.105 nvidia-cudnn-cu12-8.9.2.26 nvidia-cufft-cu12-11.0.2.54 nvidia-curand-cu12-10.3.2.106 nvidia-cusolver-cu12-11.4.5.107 nvidia-cusparse-cu12-12.1.0.106 nvidia-nccl-cu12-2.19.3 nvidia-nvjitlink-cu12-12.4.127 nvidia-nvtx-cu12-12.1.105 thop-0.1.1.post2209072238 ultralytics-8.2.11\n"
          ]
        }
      ],
      "source": [
        "!apt install ffmpeg\n",
        "!pip install ultralytics"
      ]
    },
    {
      "cell_type": "code",
      "execution_count": 26,
      "metadata": {
        "colab": {
          "base_uri": "https://localhost:8080/"
        },
        "id": "6sHrgdTrpBuA",
        "outputId": "1789a2af-4d60-4db6-9c05-083233c4b459"
      },
      "outputs": [
        {
          "name": "stdout",
          "output_type": "stream",
          "text": [
            "ffmpeg version N-115141-g4e069ba80a-20240508 Copyright (c) 2000-2024 the FFmpeg developers\n",
            "built with gcc 13.2.0 (crosstool-NG 1.26.0.65_ecc5e41)\n",
            "configuration: --prefix=/ffbuild/prefix --pkg-config-flags=--static --pkg-config=pkg-config --cross-prefix=x86_64-ffbuild-linux-gnu- --arch=x86_64 --target-os=linux --enable-gpl --enable-version3 --disable-debug --enable-iconv --enable-libxml2 --enable-zlib --enable-libfreetype --enable-libfribidi --enable-gmp --enable-openssl --enable-fontconfig --enable-libharfbuzz --enable-libvorbis --enable-opencl --enable-libpulse --enable-libvmaf --enable-libxcb --enable-xlib --enable-amf --enable-libaom --enable-libaribb24 --enable-avisynth --enable-chromaprint --enable-libdav1d --enable-libdavs2 --enable-libdvdread --enable-libdvdnav --disable-libfdk-aac --enable-ffnvcodec --enable-cuda-llvm --enable-frei0r --enable-libgme --enable-libkvazaar --enable-libaribcaption --enable-libass --enable-libbluray --enable-libjxl --enable-libmp3lame --enable-libopus --enable-librist --enable-libssh --enable-libtheora --enable-libvpx --enable-libwebp --enable-lv2 --enable-libvpl --enable-openal --enable-libopencore-amrnb --enable-libopencore-amrwb --enable-libopenh264 --enable-libopenjpeg --enable-libopenmpt --enable-librav1e --enable-librubberband --disable-schannel --enable-sdl2 --enable-libsoxr --enable-libsrt --enable-libsvtav1 --enable-libtwolame --enable-libuavs3d --enable-libdrm --enable-vaapi --enable-libvidstab --enable-vulkan --enable-libshaderc --enable-libplacebo --enable-libx264 --enable-libx265 --enable-libxavs2 --enable-libxvid --enable-libzimg --enable-libzvbi --extra-cflags=-DLIBTWOLAME_STATIC --extra-cxxflags= --extra-libs='-ldl -lgomp' --extra-ldflags=-pthread --extra-ldexeflags=-pie --cc=x86_64-ffbuild-linux-gnu-gcc --cxx=x86_64-ffbuild-linux-gnu-g++ --ar=x86_64-ffbuild-linux-gnu-gcc-ar --ranlib=x86_64-ffbuild-linux-gnu-gcc-ranlib --nm=x86_64-ffbuild-linux-gnu-gcc-nm --extra-version=20240508\n",
            "libavutil      59. 17.100 / 59. 17.100\n",
            "libavcodec     61.  5.103 / 61.  5.103\n",
            "libavformat    61.  3.103 / 61.  3.103\n",
            "libavdevice    61.  2.100 / 61.  2.100\n",
            "libavfilter    10.  2.101 / 10.  2.101\n",
            "libswscale      8.  2.100 /  8.  2.100\n",
            "libswresample   5.  2.100 /  5.  2.100\n",
            "libpostproc    58.  2.100 / 58.  2.100\n"
          ]
        }
      ],
      "source": [
        "from IPython.display import clear_output\n",
        "\n",
        "!sudo curl -L https://github.com/BtbN/FFmpeg-Builds/releases/download/latest/ffmpeg-master-latest-linux64-gpl.tar.xz -o /usr/local/bin/ffmpeg.tar.xz\n",
        "clear_output()\n",
        "%cd /usr/local/bin/\n",
        "clear_output()\n",
        "!7z e /usr/local/bin/ffmpeg.tar.xz\n",
        "clear_output()\n",
        "!7z e /usr/local/bin/ffmpeg.tar\n",
        "clear_output()\n",
        "!sudo chmod a+rx /usr/local/bin/ffmpeg\n",
        "clear_output()\n",
        "%cd /content/\n",
        "!sudo curl -L https://mkvtoolnix.download/appimage/MKVToolNix_GUI-70.0.0-x86_64.AppImage -o /usr/local/bin/MKVToolNix_GUI-70.0.0-x86_64.AppImage\n",
        "!sudo chmod u+rx /usr/local/bin/MKVToolNix_GUI-70.0.0-x86_64.AppImage\n",
        "!sudo ln -s /usr/local/bin/MKVToolNix_GUI-70.0.0-x86_64.AppImage /usr/local/bin/mkvmerge\n",
        "!sudo chmod a+rx /usr/local/bin/mkvmerge\n",
        "clear_output()\n",
        "!ffmpeg -version"
      ]
    },
    {
      "cell_type": "markdown",
      "metadata": {
        "id": "W65NnNEzlxvJ"
      },
      "source": [
        "### Frame Extractor"
      ]
    },
    {
      "cell_type": "code",
      "execution_count": 32,
      "metadata": {
        "id": "18YEQjBRkZka"
      },
      "outputs": [],
      "source": [
        "import math\n",
        "import os\n",
        "import subprocess\n",
        "import sys\n",
        "import cv2 as cv\n",
        "\n",
        "\n",
        "import os\n",
        "import subprocess\n",
        "\n",
        "def extract_frames(video_path, output_path, fps):\n",
        "    \"\"\"\n",
        "    Extract frames from a video file and save them as individual images.\n",
        "\n",
        "    Args:\n",
        "        video_path (str): The path to the video file.\n",
        "        output_path (str): The path to the output folder where the frames will be saved.\n",
        "        fps (int): The desired frames per second for the extracted frames.\n",
        "\n",
        "    Returns:\n",
        "        None\n",
        "    \"\"\"\n",
        "    if not os.path.exists(output_path):\n",
        "        os.makedirs(output_path)\n",
        "    video_name = os.path.basename(video_path)\n",
        "    # remove the file extension\n",
        "    video_name = os.path.splitext(video_name)[0]\n",
        "    output_folder = os.path.join(output_path, video_name)\n",
        "    if not os.path.exists(output_folder):\n",
        "        os.makedirs(output_folder)\n",
        "    print(f\"Extracting frames to {output_folder}\")\n",
        "\n",
        "    # Handle the fact that the directory may contain whitespaces\n",
        "    video_path = f'\"{video_path}\"'\n",
        "    output_folder = f'\"{output_folder}\"'\n",
        "\n",
        "    command = f\"ffmpeg -i {video_path} -vf fps={fps} {output_folder}/%d.jpg\"\n",
        "    subprocess.call(command, shell=True, stdout=subprocess.DEVNULL, stderr=subprocess.DEVNULL)\n",
        "\n",
        "\n",
        "def fps_count(seconds, factor):\n",
        "    \"\"\"\n",
        "    Calculate the number of frames per second based on the number of seconds and a factor.\n",
        "\n",
        "    Args:\n",
        "        seconds (int): The number of seconds in the video.\n",
        "        factor (float): The factor to use in the calculation.\n",
        "    \"\"\"\n",
        "    return math.floor(math.log(seconds, 10) * factor)\n",
        "\n",
        "\n",
        "\n",
        "# json for the input\n",
        "def frame_extraction(input_json, verbose=False):\n",
        "    \"\"\"\n",
        "    Extract frames from a video file and save them as individual images.\n",
        "\n",
        "    Args:\n",
        "        video_path (str): The path to the video file.\n",
        "        output_path (str): The path to the output folder where the frames will be saved.\n",
        "        factor (float): The factor to use in the calculation of the frames per second.\n",
        "        verbose (bool): Whether to print additional information.\n",
        "    \"\"\"\n",
        "    video_path = input_json[\"video_path\"]\n",
        "    output_path = input_json[\"output_path\"]\n",
        "    factor = input_json[\"factor\"]\n",
        "\n",
        "    if not os.path.exists(video_path):\n",
        "        print(f\"Video path: {video_path}\")\n",
        "        print(\"Video file does not exist\")\n",
        "        sys.exit(1)\n",
        "\n",
        "    video = cv.VideoCapture(video_path)\n",
        "\n",
        "    fps = video.get(cv.CAP_PROP_FPS)\n",
        "    frame_count = video.get(cv.CAP_PROP_FRAME_COUNT)\n",
        "\n",
        "    print(fps)\n",
        "    sec = (int)(frame_count / fps)\n",
        "\n",
        "    frames = fps_count(sec, factor)\n",
        "    fps = math.floor(frames / sec * 100) / 100  # floor to two decimal places\n",
        "\n",
        "    if verbose:\n",
        "        print(\n",
        "            f\"Total extracted frames: {frames}\\nSeconds video duration: {sec}\\nFPS: {fps}\"\n",
        "        )\n",
        "    extract_frames(video_path, output_path, fps)\n",
        "    if verbose:\n",
        "        print(\"Frames extracted successfully\")\n",
        "\n",
        "    output_json = {\n",
        "        \"output_path\": os.path.join(output_path, os.path.splitext(os.path.basename(video_path))[0]),\n",
        "        \"frame_count\": frames,\n",
        "        \"video_id\": os.path.basename(video_path),\n",
        "    }\n",
        "\n",
        "    return output_json"
      ]
    },
    {
      "cell_type": "markdown",
      "metadata": {
        "id": "-SHhL964l0Uy"
      },
      "source": [
        "### YOLOv8"
      ]
    },
    {
      "cell_type": "code",
      "execution_count": 43,
      "metadata": {
        "id": "FZKq1edkl1ln"
      },
      "outputs": [],
      "source": [
        "from ultralytics import YOLO\n",
        "import os\n",
        "import json\n",
        "import json\n",
        "\n",
        "model = YOLO(\"yolov8n.pt\")  # load an official model\n",
        "\n",
        "def get_yolo_labels(input_json):\n",
        "\n",
        "    images = os.listdir(input_json[\"output_path\"])\n",
        "    # sort images by number\n",
        "    images.sort(key=lambda x: int(x.split(\".\")[0]))\n",
        "\n",
        "    res = model(input_json[\"output_path\"])\n",
        "\n",
        "    result = []\n",
        "    for ix, r in enumerate(res):\n",
        "        els = set()\n",
        "\n",
        "        # If there are no boxes, skip\n",
        "        try:\n",
        "            for c in r.boxes.cls:\n",
        "                els.add(model.names[int(c)])\n",
        "        except:\n",
        "            pass\n",
        "\n",
        "        result.append({\"frame\": ix, \"labels\": list(els)})\n",
        "\n",
        "    json_result = json.dumps(result)\n",
        "\n",
        "    return json_result"
      ]
    },
    {
      "cell_type": "markdown",
      "metadata": {
        "id": "eIwDT71Zl-T-"
      },
      "source": [
        "Michele's code for Framework selection"
      ]
    },
    {
      "cell_type": "code",
      "execution_count": 1,
      "metadata": {
        "id": "COYh8SPjmAca"
      },
      "outputs": [],
      "source": [
        "pass"
      ]
    },
    {
      "cell_type": "markdown",
      "metadata": {
        "id": "pgbk9LGomfu_"
      },
      "source": [
        "### Main code"
      ]
    },
    {
      "cell_type": "code",
      "execution_count": 44,
      "metadata": {
        "colab": {
          "base_uri": "https://localhost:8080/"
        },
        "id": "8tYCCklnmet8",
        "outputId": "6adfd3e6-2326-4ed7-b7c9-826ee2ad30cb"
      },
      "outputs": [
        {
          "name": "stdout",
          "output_type": "stream",
          "text": [
            "{'video_path': '/content/room.mp4', 'output_path': '/content/output', 'factor': 10}\n",
            "59.63234331670284\n",
            "Extracting frames to /content/output/room\n",
            "The extraction is:\n",
            "{\n",
            "    \"output_path\": \"/content/output/room\",\n",
            "    \"frame_count\": 10,\n",
            "    \"video_id\": \"room.mp4\"\n",
            "}\n",
            "\n",
            "image 1/11 /content/output/room/1.jpg: 640x384 1 suitcase, 11.9ms\n",
            "image 2/11 /content/output/room/10.jpg: 640x384 1 person, 1 cup, 2 chairs, 2 laptops, 2 mouses, 2 keyboards, 9.3ms\n",
            "image 3/11 /content/output/room/11.jpg: 640x384 1 person, 1 cup, 2 chairs, 1 dining table, 1 laptop, 1 mouse, 3 keyboards, 6.8ms\n",
            "image 4/11 /content/output/room/2.jpg: 640x384 (no detections), 6.8ms\n",
            "image 5/11 /content/output/room/3.jpg: 640x384 1 backpack, 2 suitcases, 6.7ms\n",
            "image 6/11 /content/output/room/4.jpg: 640x384 (no detections), 6.6ms\n",
            "image 7/11 /content/output/room/5.jpg: 640x384 (no detections), 10.0ms\n",
            "image 8/11 /content/output/room/6.jpg: 640x384 1 bed, 6.9ms\n",
            "image 9/11 /content/output/room/7.jpg: 640x384 1 chair, 1 bed, 6.9ms\n",
            "image 10/11 /content/output/room/8.jpg: 640x384 1 person, 1 chair, 2 laptops, 1 mouse, 1 keyboard, 6.8ms\n",
            "image 11/11 /content/output/room/9.jpg: 640x384 3 persons, 1 cup, 1 chair, 1 couch, 2 laptops, 2 mouses, 1 keyboard, 6.6ms\n",
            "Speed: 2.0ms preprocess, 7.7ms inference, 1.1ms postprocess per image at shape (1, 3, 640, 384)\n",
            "Labels for the frames:\n",
            "{'frame': 0, 'labels': ['suitcase']}\n",
            "{'frame': 1, 'labels': ['chair', 'laptop', 'cup', 'keyboard', 'mouse', 'person']}\n",
            "{'frame': 2, 'labels': ['chair', 'cup', 'laptop', 'keyboard', 'dining table', 'mouse', 'person']}\n",
            "{'frame': 3, 'labels': []}\n",
            "{'frame': 4, 'labels': ['suitcase', 'backpack']}\n",
            "{'frame': 5, 'labels': []}\n",
            "{'frame': 6, 'labels': []}\n",
            "{'frame': 7, 'labels': ['bed']}\n",
            "{'frame': 8, 'labels': ['bed', 'chair']}\n",
            "{'frame': 9, 'labels': ['chair', 'laptop', 'keyboard', 'mouse', 'person']}\n",
            "{'frame': 10, 'labels': ['chair', 'cup', 'laptop', 'keyboard', 'mouse', 'person', 'couch']}\n"
          ]
        }
      ],
      "source": [
        "# Example of usage\n",
        "import os\n",
        "import json\n",
        "\n",
        "# 1. Get the video\n",
        "dir_path = \"/content\"\n",
        "video_path = os.path.join(dir_path, \"room.mp4\")\n",
        "\n",
        "# 2. Extract frames\n",
        "input_json = {\n",
        "    \"video_path\": video_path,\n",
        "    \"output_path\": os.path.join(dir_path, \"output\"),\n",
        "    \"factor\": 10\n",
        "}\n",
        "\n",
        "print(input_json)\n",
        "extraction = frame_extraction(input_json, verbose=False)\n",
        "print(f\"The extraction is:\")\n",
        "print(json.dumps(extraction, indent=4))\n",
        "\n",
        "# 3. Get frames labels using YOLO\n",
        "labels = get_yolo_labels(extraction)\n",
        "\n",
        "print(f\"Labels for the frames:\")\n",
        "for l in json.loads(labels):\n",
        "    print(l)"
      ]
    },
    {
      "cell_type": "markdown",
      "metadata": {
        "id": "dZhiFu8bl5nC"
      },
      "source": [
        "### Moondream"
      ]
    },
    {
      "cell_type": "code",
      "execution_count": null,
      "metadata": {
        "id": "ynueDuF7l7xJ"
      },
      "outputs": [],
      "source": [
        "from transformers import AutoModelForCausalLM, AutoTokenizer\n",
        "from PIL import Image\n",
        "import torch\n",
        "\n",
        "model_id = \"vikhyatk/moondream2\"\n",
        "revision = \"2024-04-02\"\n",
        "model = AutoModelForCausalLM.from_pretrained(\n",
        "    model_id, trust_remote_code=True, revision=revision\n",
        ")\n",
        "tokenizer = AutoTokenizer.from_pretrained(model_id, revision=revision)\n",
        "torch.cuda.is_available()\n",
        "\n",
        "image = Image.open(\"Scripts/output/cat/chrome_idanP15BYp.png\")\n",
        "enc_image = model.encode_image(image)\n",
        "print(model.answer_question(enc_image, \"Describe this image considering it will be used as input to a sound generation model\", tokenizer))\n"
      ]
    }
  ],
  "metadata": {
    "accelerator": "GPU",
    "colab": {
      "gpuType": "T4",
      "provenance": []
    },
    "kernelspec": {
      "display_name": "Python 3",
      "name": "python3"
    },
    "language_info": {
      "codemirror_mode": {
        "name": "ipython",
        "version": 3
      },
      "file_extension": ".py",
      "mimetype": "text/x-python",
      "name": "python",
      "nbconvert_exporter": "python",
      "pygments_lexer": "ipython3",
      "version": "3.10.8"
    }
  },
  "nbformat": 4,
  "nbformat_minor": 0
}
