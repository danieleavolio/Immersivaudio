{
 "cells": [
  {
   "cell_type": "code",
   "execution_count": 38,
   "metadata": {},
   "outputs": [],
   "source": [
    "import torch\n",
    "from PIL import Image\n",
    "from torchvision import transforms\n",
    "import numpy as np"
   ]
  },
  {
   "cell_type": "code",
   "execution_count": null,
   "metadata": {},
   "outputs": [],
   "source": [
    "model = torch.hub.load('pytorch/vision:v0.10.0', 'resnet18', pretrained=True)\n",
    "if torch.cuda.is_available():\n",
    "    print(\"CUDA is available! Running on gpu\")\n",
    "    model = model.to('cuda')\n",
    "model.eval()"
   ]
  },
  {
   "cell_type": "code",
   "execution_count": null,
   "metadata": {},
   "outputs": [],
   "source": [
    "inputPath = \"Scripts/cat3/cat.mp4\"\n",
    "frames_number = 14\n",
    "\n",
    "# Load the images\n",
    "images = {}\n",
    "for i in range(1,frames_number + 1):\n",
    "    img_name = inputPath + \"/\" + str(i) + \".jpg\" \n",
    "    img = Image.open(img_name)\n",
    "    images[img_name] = (img)\n",
    "\n",
    "images"
   ]
  },
  {
   "cell_type": "code",
   "execution_count": null,
   "metadata": {},
   "outputs": [],
   "source": [
    "activation = None"
   ]
  },
  {
   "cell_type": "code",
   "execution_count": null,
   "metadata": {},
   "outputs": [],
   "source": [
    "def hook(model, input, output):\n",
    "    global activation\n",
    "    activation = output"
   ]
  },
  {
   "cell_type": "code",
   "execution_count": 25,
   "metadata": {},
   "outputs": [],
   "source": [
    "preprocess = transforms.Compose([\n",
    "    transforms.Resize(512),\n",
    "    transforms.ToTensor(),\n",
    "    transforms.Normalize(mean=[0.485, 0.456, 0.406], std=[0.229, 0.224, 0.225]),\n",
    "])\n",
    "latent = {}\n",
    "for i in images:\n",
    "    input_tensor = preprocess(images[i])   \n",
    "    input_batch = input_tensor.unsqueeze(0)\n",
    "\n",
    "    # move the input and model to GPU for speed if available\n",
    "    if torch.cuda.is_available():\n",
    "        input_batch = input_batch.to('cuda')\n",
    "\n",
    "    model.layer3[1].conv2.register_forward_hook(hook)\n",
    "\n",
    "    with torch.no_grad():\n",
    "        model(input_batch)\n",
    "\n",
    "    latent[i] = activation[0]"
   ]
  },
  {
   "cell_type": "code",
   "execution_count": 26,
   "metadata": {},
   "outputs": [
    {
     "data": {
      "text/plain": [
       "torch.Size([512, 16, 29])"
      ]
     },
     "execution_count": 26,
     "metadata": {},
     "output_type": "execute_result"
    }
   ],
   "source": [
    "latent['Scripts/cat3/cat.mp4/1.jpg'].shape"
   ]
  },
  {
   "cell_type": "code",
   "execution_count": 68,
   "metadata": {},
   "outputs": [
    {
     "data": {
      "text/plain": [
       "10"
      ]
     },
     "execution_count": 68,
     "metadata": {},
     "output_type": "execute_result"
    }
   ],
   "source": [
    "from sklearn_extra.cluster import KMedoids\n",
    "\n",
    "#  initial shape 512 x 16 x 29, need to reshape everything to 1 x (512*16*29) then stack to \n",
    "flattened_arrays = [arr.flatten() for arr in latent.values()]\n",
    "\n",
    "\n",
    "flattened_data = np.vstack(flattened_arrays)\n",
    "\n",
    "med_model = KMedoids(n_clusters=1, random_state=0)\n",
    "\n",
    "med_model.fit(flattened_data)\n",
    "\n",
    "# Trovare il medoide\n",
    "medoid_index = med_model.medoid_indices_[0]\n",
    "\n",
    "medoid_index"
   ]
  }
 ],
 "metadata": {
  "kernelspec": {
   "display_name": ".venv",
   "language": "python",
   "name": "python3"
  },
  "language_info": {
   "codemirror_mode": {
    "name": "ipython",
    "version": 3
   },
   "file_extension": ".py",
   "mimetype": "text/x-python",
   "name": "python",
   "nbconvert_exporter": "python",
   "pygments_lexer": "ipython3",
   "version": "3.10.8"
  }
 },
 "nbformat": 4,
 "nbformat_minor": 2
}
